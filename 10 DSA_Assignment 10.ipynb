{
 "cells": [
  {
   "cell_type": "code",
   "execution_count": null,
   "id": "ce6a2c4f",
   "metadata": {},
   "outputs": [],
   "source": [
    "Assignment 10\n",
    "💡 Question 1\n",
    "\n",
    "Given an integer n, return true if it is a power of three. Otherwise, return false.\n",
    "\n",
    "An integer n is a power of three, if there exists an integer x such that n == 3x.\n",
    "\n",
    "Example 1:\n",
    "\n",
    "Input: n = 27\n",
    "\n",
    "Output: true\n",
    "\n",
    "Explanation: 27 = 33"
   ]
  },
  {
   "cell_type": "code",
   "execution_count": 1,
   "id": "9ac25a92",
   "metadata": {},
   "outputs": [
    {
     "name": "stdout",
     "output_type": "stream",
     "text": [
      "True\n"
     ]
    }
   ],
   "source": [
    "import math\n",
    "\n",
    "def isPowerOfThree(n):\n",
    "    if n <= 0:\n",
    "        return False\n",
    "\n",
    "    x = math.log10(n) / math.log10(3)\n",
    "    return x.is_integer()\n",
    "\n",
    "# Example usage\n",
    "print(isPowerOfThree(27))  # Output: True"
   ]
  },
  {
   "cell_type": "code",
   "execution_count": null,
   "id": "50080f0e",
   "metadata": {},
   "outputs": [],
   "source": [
    "Example 2:\n",
    "Input: n = 0\n",
    "\n",
    "Output: false\n",
    "\n",
    "Explanation: There is no x where 3x = 0."
   ]
  },
  {
   "cell_type": "code",
   "execution_count": 2,
   "id": "eb9076eb",
   "metadata": {},
   "outputs": [
    {
     "name": "stdout",
     "output_type": "stream",
     "text": [
      "False\n"
     ]
    }
   ],
   "source": [
    "# Example usage\n",
    "print(isPowerOfThree(0))   # Output: False"
   ]
  },
  {
   "cell_type": "code",
   "execution_count": null,
   "id": "b059e882",
   "metadata": {},
   "outputs": [],
   "source": [
    "Example 3:\n",
    "Input: n = -1\n",
    "\n",
    "Output: false\n",
    "\n",
    "Explanation: There is no x where 3x = (-1)."
   ]
  },
  {
   "cell_type": "code",
   "execution_count": 3,
   "id": "0922d6c8",
   "metadata": {},
   "outputs": [
    {
     "name": "stdout",
     "output_type": "stream",
     "text": [
      "False\n"
     ]
    }
   ],
   "source": [
    "print(isPowerOfThree(-1))  # Output: False"
   ]
  },
  {
   "cell_type": "code",
   "execution_count": null,
   "id": "e891553c",
   "metadata": {},
   "outputs": [],
   "source": [
    "💡 Question 2\n",
    "\n",
    "You have a list arr of all integers in the range [1, n] sorted in a strictly increasing order. Apply the following algorithm on arr:\n",
    "\n",
    "Starting from left to right, remove the first number and every other number afterward until you reach the end of the list.\n",
    "Repeat the previous step again, but this time from right to left, remove the rightmost number and every other number from the remaining numbers.\n",
    "Keep repeating the steps again, alternating left to right and right to left, until a single number remains.\n",
    "Given the integer n, return the last number that remains in arr.\n",
    "\n",
    "Example 1:\n",
    "\n",
    "Input: n = 9\n",
    "\n",
    "Output: 6\n",
    "\n",
    "Explanation:\n",
    "\n",
    "arr = [1, 2,3, 4,5, 6,7, 8,9]\n",
    "\n",
    "arr = [2,4, 6,8]\n",
    "\n",
    "arr = [2, 6]\n",
    "\n",
    "arr = [6]"
   ]
  },
  {
   "cell_type": "code",
   "execution_count": 4,
   "id": "6610534f",
   "metadata": {},
   "outputs": [
    {
     "name": "stdout",
     "output_type": "stream",
     "text": [
      "8\n"
     ]
    }
   ],
   "source": [
    "def last_remaining(n):\n",
    "    msb_pos = 0\n",
    "    while n > 1:\n",
    "        n = n // 2\n",
    "        msb_pos += 1\n",
    "    last_number = 1 << msb_pos\n",
    "    return last_number\n",
    "\n",
    "# Test the function with the given example\n",
    "n = 9\n",
    "print(last_remaining(n))  # Output: 6"
   ]
  },
  {
   "cell_type": "code",
   "execution_count": 5,
   "id": "d455fa0a",
   "metadata": {},
   "outputs": [
    {
     "name": "stdout",
     "output_type": "stream",
     "text": [
      "1\n"
     ]
    }
   ],
   "source": [
    "def last_remaining(n):\n",
    "    msb_pos = 0\n",
    "    while n > 1:\n",
    "        n = n // 2\n",
    "        msb_pos += 1\n",
    "    last_number = 1 << msb_pos\n",
    "    return last_number\n",
    "\n",
    "# Test the function with the given example\n",
    "n = 1\n",
    "print(last_remaining(n))  # Output: 1"
   ]
  },
  {
   "cell_type": "code",
   "execution_count": null,
   "id": "414b7ca6",
   "metadata": {},
   "outputs": [],
   "source": [
    "💡 Question 3\n",
    "\n",
    "****Given a set represented as a string, write a recursive code to print all subsets of it. The subsets can be printed in any order.\n",
    "\n",
    "Example 1:\n",
    "\n",
    "Input :  set = “abc”\n",
    "\n",
    "Output : { “”, “a”, “b”, “c”, “ab”, “ac”, “bc”, “abc”}\n",
    "\n",
    "Example 2:\n",
    "\n",
    "Input : set = “abcd”\n",
    "\n",
    "Output : { “”, “a” ,”ab” ,”abc” ,”abcd”, “abd” ,”ac” ,”acd”, “ad” ,”b”, “bc” ,”bcd” ,”bd” ,”c” ,”cd” ,”d” }"
   ]
  },
  {
   "cell_type": "code",
   "execution_count": null,
   "id": "31d1d9fa",
   "metadata": {},
   "outputs": [],
   "source": [
    "# Example usage\n",
    "set_string = \"abc\"\n",
    "print_subsets(set_string)\n"
   ]
  },
  {
   "cell_type": "code",
   "execution_count": null,
   "id": "20c06631",
   "metadata": {},
   "outputs": [],
   "source": [
    "abc\n",
    "ab\n",
    "ac\n",
    "a\n",
    "bc\n",
    "b\n",
    "c"
   ]
  },
  {
   "cell_type": "code",
   "execution_count": null,
   "id": "12a3ba33",
   "metadata": {},
   "outputs": [],
   "source": [
    "# Example usage\n",
    "set_string = \"abcd\"\n",
    "print_subsets(set_string)"
   ]
  },
  {
   "cell_type": "code",
   "execution_count": null,
   "id": "014a3f89",
   "metadata": {},
   "outputs": [],
   "source": [
    "abcd\n",
    "abc\n",
    "abd\n",
    "ab\n",
    "acd\n",
    "ac\n",
    "ad\n",
    "a\n",
    "bcd\n",
    "bc\n",
    "bd\n",
    "b\n",
    "cd\n",
    "c\n",
    "d"
   ]
  },
  {
   "cell_type": "code",
   "execution_count": null,
   "id": "7266f8e4",
   "metadata": {},
   "outputs": [],
   "source": [
    "💡 Question 4\n",
    "\n",
    "Given a string calculate length of the string using recursion.\n",
    "\n",
    "Examples:\n",
    "\n",
    "Input : str = \"abcd\"\n",
    "\n",
    "Output :4\n",
    "\n",
    "Input : str = \"GEEKSFORGEEKS\"\n",
    "\n",
    "Output :13"
   ]
  },
  {
   "cell_type": "code",
   "execution_count": 9,
   "id": "8a693c32",
   "metadata": {},
   "outputs": [
    {
     "name": "stdout",
     "output_type": "stream",
     "text": [
      "Length of the string: 4\n"
     ]
    }
   ],
   "source": [
    "def calculate_length(string):\n",
    "    if string == \"\":\n",
    "        return 0\n",
    "    else:\n",
    "        return 1 + calculate_length(string[1:])\n",
    "\n",
    "# Example usage:\n",
    "string = \"abcd\"\n",
    "length = calculate_length(string)\n",
    "print(\"Length of the string:\", length)\n"
   ]
  },
  {
   "cell_type": "code",
   "execution_count": 10,
   "id": "52d20717",
   "metadata": {},
   "outputs": [
    {
     "name": "stdout",
     "output_type": "stream",
     "text": [
      "Length of the string: 13\n"
     ]
    }
   ],
   "source": [
    "string = \"GEEKSFORGEEKS\"\n",
    "length = calculate_length(string)\n",
    "print(\"Length of the string:\", length)"
   ]
  },
  {
   "cell_type": "code",
   "execution_count": null,
   "id": "c877aa7c",
   "metadata": {},
   "outputs": [],
   "source": [
    "💡 Question 5\n",
    "\n",
    "We are given a string S, we need to find count of all contiguous substrings starting and ending with same character.\n",
    "\n",
    "Examples :\n",
    "\n",
    "Input : S = \"abcab\"\n",
    "\n",
    "Output : 7\n",
    "\n",
    "There are 15 substrings of \"abcab\"\n",
    "\n",
    "a, ab, abc, abca, abcab, b, bc, bca bcab, c, ca, cab, a, ab, b\n",
    "\n",
    "Out of the above substrings, there are 7 substrings : a, abca, b, bcab, c, a and b.\n",
    "\n",
    "Input : S = \"aba\"\n",
    "\n",
    "Output : 4\n",
    "\n",
    "The substrings are a, b, a and aba"
   ]
  },
  {
   "cell_type": "code",
   "execution_count": 11,
   "id": "91d5c4d5",
   "metadata": {},
   "outputs": [
    {
     "name": "stdout",
     "output_type": "stream",
     "text": [
      "7\n",
      "4\n"
     ]
    }
   ],
   "source": [
    "def count_substrings(s):\n",
    "    count = 0\n",
    "    n = len(s)\n",
    "    for i in range(n):\n",
    "        for j in range(i, n):\n",
    "            if s[i] == s[j]:\n",
    "                count += 1\n",
    "    return count\n",
    "print(count_substrings(\"abcab\"))  # Output: 7\n",
    "print(count_substrings(\"aba\"))  # Output: 4"
   ]
  },
  {
   "cell_type": "code",
   "execution_count": null,
   "id": "527ba40b",
   "metadata": {},
   "outputs": [],
   "source": [
    "💡 Question 6\n",
    "\n",
    "The tower of Hanoi is a famous puzzle where we have three rods and N disks. The objective of the puzzle is to move the entire stack to another rod. You are given the number of discs N. Initially, these discs are in the rod 1. You need to print all the steps of discs movement so that all the discs reach the 3rd rod. Also, you need to find the total moves.Note: The discs are arranged such that the top disc is numbered 1 and the bottom-most disc is numbered N. Also, all the discs have different sizes and a bigger disc cannot be put on the top of a smaller disc. Refer the provided link to get a better clarity about the puzzle.\n",
    "\n",
    "Example 1:\n",
    "\n",
    "Input:N = 2\n",
    "\n",
    "Output:\n",
    "\n",
    "move disk 1 from rod 1 to rod 2\n",
    "\n",
    "move disk 2 from rod 1 to rod 3\n",
    "\n",
    "move disk 1 from rod 2 to rod 3 3\n",
    "\n",
    "Explanation:For N=2 , steps will be as follows in the example and total 3 steps will be taken."
   ]
  },
  {
   "cell_type": "code",
   "execution_count": 12,
   "id": "643f719a",
   "metadata": {},
   "outputs": [
    {
     "name": "stdout",
     "output_type": "stream",
     "text": [
      "move disk 1 from rod 1 to rod 2\n",
      "move disk 2 from rod 1 to rod 3\n",
      "move disk 1 from rod 2 to rod 3\n",
      "Total moves: 3\n"
     ]
    }
   ],
   "source": [
    "def towerOfHanoi(n, source, destination, auxiliary):\n",
    "    if n == 1:\n",
    "        print(\"move disk 1 from rod\", source, \"to rod\", destination)\n",
    "        return 1\n",
    "    \n",
    "    count = 0\n",
    "    \n",
    "    count += towerOfHanoi(n-1, source, auxiliary, destination)\n",
    "    \n",
    "    print(\"move disk\", n, \"from rod\", source, \"to rod\", destination)\n",
    "    count += 1\n",
    "    \n",
    "    count += towerOfHanoi(n-1, auxiliary, destination, source)\n",
    "    \n",
    "    return count\n",
    "\n",
    "\n",
    "# Example usage\n",
    "N = 2\n",
    "total_moves = towerOfHanoi(N, 1, 3, 2)\n",
    "print(\"Total moves:\", total_moves)"
   ]
  },
  {
   "cell_type": "code",
   "execution_count": null,
   "id": "1bf47ec5",
   "metadata": {},
   "outputs": [],
   "source": [
    "Example 1:\n",
    "Input: N = 3\n",
    "\n",
    "Output:\n",
    "\n",
    "move disk 1 from rod 1 to rod 3\n",
    "\n",
    "move disk 2 from rod 1 to rod 2\n",
    "\n",
    "move disk 1 from rod 3 to rod 2\n",
    "\n",
    "move disk 3 from rod 1 to rod 3\n",
    "\n",
    "move disk 1 from rod 2 to rod 1\n",
    "\n",
    "move disk 2 from rod 2 to rod 3\n",
    "\n",
    "move disk 1 from rod 1 to rod 3 7\n",
    "\n",
    "Explanation:For N=3 , steps will be as follows in the example and total 7 steps will be taken.\n",
    "\n"
   ]
  },
  {
   "cell_type": "code",
   "execution_count": 13,
   "id": "448fb253",
   "metadata": {},
   "outputs": [
    {
     "name": "stdout",
     "output_type": "stream",
     "text": [
      "move disk 1 from rod 1 to rod 3\n",
      "move disk 2 from rod 1 to rod 2\n",
      "move disk 1 from rod 3 to rod 2\n",
      "move disk 3 from rod 1 to rod 3\n",
      "move disk 1 from rod 2 to rod 1\n",
      "move disk 2 from rod 2 to rod 3\n",
      "move disk 1 from rod 1 to rod 3\n",
      "Total moves: 7\n"
     ]
    }
   ],
   "source": [
    "def towerOfHanoi(n, source, destination, auxiliary):\n",
    "    if n == 1:\n",
    "        print(\"move disk 1 from rod\", source, \"to rod\", destination)\n",
    "        return 1\n",
    "    \n",
    "    count = 0\n",
    "    \n",
    "    count += towerOfHanoi(n-1, source, auxiliary, destination)\n",
    "    \n",
    "    print(\"move disk\", n, \"from rod\", source, \"to rod\", destination)\n",
    "    count += 1\n",
    "    \n",
    "    count += towerOfHanoi(n-1, auxiliary, destination, source)\n",
    "    \n",
    "    return count\n",
    "\n",
    "\n",
    "# Example usage\n",
    "N = 3\n",
    "total_moves = towerOfHanoi(N, 1, 3, 2)\n",
    "print(\"Total moves:\", total_moves)"
   ]
  },
  {
   "cell_type": "code",
   "execution_count": null,
   "id": "ed8f04ec",
   "metadata": {},
   "outputs": [],
   "source": [
    "💡 Question 7\n",
    "\n",
    "Given a string str, the task is to print all the permutations of str. A permutation is an arrangement of all or part of a set of objects, with regard to the order of the arrangement. For instance, the words ‘bat’ and ‘tab’ represents two distinct permutation (or arrangements) of a similar three letter word.\n",
    "\n",
    "Examples:\n",
    "\n",
    "Input: str = “cd”\n",
    "\n",
    "Output: cd dc\n",
    "\n",
    "Input: str = “abb”\n",
    "\n",
    "Output: abb abb bab bba bab bba"
   ]
  },
  {
   "cell_type": "code",
   "execution_count": 14,
   "id": "171837e7",
   "metadata": {},
   "outputs": [
    {
     "name": "stdout",
     "output_type": "stream",
     "text": [
      "Permutations of cd:\n",
      "cd\n",
      "dc\n",
      "Permutations of abb:\n",
      "abb\n",
      "abb\n",
      "bab\n",
      "bba\n",
      "bba\n",
      "bab\n"
     ]
    }
   ],
   "source": [
    "def permute_string(str):\n",
    "    # Convert the string to a list of characters\n",
    "    chars = list(str)\n",
    "    # Call the helper function with initial parameters\n",
    "    permute_helper(chars, 0, len(chars) - 1)\n",
    "\n",
    "# Helper function to generate permutations\n",
    "def permute_helper(chars, l, r):\n",
    "    if l == r:\n",
    "        # Base case: reached the last character, print the permutation\n",
    "        print(''.join(chars))\n",
    "    else:\n",
    "        # Recursive case: generate permutations by swapping characters\n",
    "        for i in range(l, r + 1):\n",
    "            # Swap the current character with the first character\n",
    "            chars[l], chars[i] = chars[i], chars[l]\n",
    "            # Recursively generate permutations for the remaining characters\n",
    "            permute_helper(chars, l + 1, r)\n",
    "            # Restore the original order by swapping back\n",
    "            chars[l], chars[i] = chars[i], chars[l]\n",
    "\n",
    "# Test the function\n",
    "str = \"cd\"\n",
    "print(\"Permutations of\", str + \":\")\n",
    "permute_string(str)\n",
    "\n",
    "str = \"abb\"\n",
    "print(\"Permutations of\", str + \":\")\n",
    "permute_string(str)\n"
   ]
  },
  {
   "cell_type": "code",
   "execution_count": null,
   "id": "44acd98f",
   "metadata": {},
   "outputs": [],
   "source": [
    "💡 Question 8\n",
    "\n",
    "Given a string, count total number of consonants in it. A consonant is an English alphabet character that is not vowel (a, e, i, o and u). Examples of constants are b, c, d, f, and g.\n",
    "\n",
    "Examples :\n",
    "\n",
    "Input : abc de\n",
    "\n",
    "Output : 3\n",
    "\n",
    "There are three consonants b, c and d.\n",
    "\n",
    "Input : geeksforgeeks portal\n",
    "\n",
    "Output : 12"
   ]
  },
  {
   "cell_type": "code",
   "execution_count": 15,
   "id": "b0bba4e2",
   "metadata": {},
   "outputs": [
    {
     "name": "stdout",
     "output_type": "stream",
     "text": [
      "3\n",
      "12\n"
     ]
    }
   ],
   "source": [
    "def count_consonants(string):\n",
    "    consonants = 0\n",
    "    vowels = 'aeiou'  # assuming only lowercase vowels\n",
    "    \n",
    "    for char in string:\n",
    "        if char.isalpha() and char.lower() not in vowels:\n",
    "            consonants += 1\n",
    "    \n",
    "    return consonants\n",
    "input_string = \"abc de\"\n",
    "result = count_consonants(input_string)\n",
    "print(result)  # Output: 3\n",
    "\n",
    "input_string = \"geeksforgeeks portal\"\n",
    "result = count_consonants(input_string)\n",
    "print(result)  # Output: 12"
   ]
  },
  {
   "cell_type": "code",
   "execution_count": null,
   "id": "21a22e1c",
   "metadata": {},
   "outputs": [],
   "source": []
  }
 ],
 "metadata": {
  "kernelspec": {
   "display_name": "Python 3 (ipykernel)",
   "language": "python",
   "name": "python3"
  },
  "language_info": {
   "codemirror_mode": {
    "name": "ipython",
    "version": 3
   },
   "file_extension": ".py",
   "mimetype": "text/x-python",
   "name": "python",
   "nbconvert_exporter": "python",
   "pygments_lexer": "ipython3",
   "version": "3.9.13"
  }
 },
 "nbformat": 4,
 "nbformat_minor": 5
}
